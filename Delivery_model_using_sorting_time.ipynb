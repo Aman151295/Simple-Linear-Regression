{
  "nbformat": 4,
  "nbformat_minor": 0,
  "metadata": {
    "colab": {
      "name": "Untitled6.ipynb",
      "provenance": [],
      "authorship_tag": "ABX9TyPY+rrQ6waA7pCCyNdkSu3m",
      "include_colab_link": true
    },
    "kernelspec": {
      "name": "python3",
      "display_name": "Python 3"
    },
    "language_info": {
      "name": "python"
    }
  },
  "cells": [
    {
      "cell_type": "markdown",
      "metadata": {
        "id": "view-in-github",
        "colab_type": "text"
      },
      "source": [
        "<a href=\"https://colab.research.google.com/github/Aman151295/Simple-Linear-Regression/blob/main/Delivery_model_using_sorting_time.ipynb\" target=\"_parent\"><img src=\"https://colab.research.google.com/assets/colab-badge.svg\" alt=\"Open In Colab\"/></a>"
      ]
    },
    {
      "cell_type": "markdown",
      "source": [
        "# **SIMPLE LINEAR REGRESSION BY SCIKIT LEARN**\n",
        "\n"
      ],
      "metadata": {
        "id": "XKRPYdapmqKE"
      }
    },
    {
      "cell_type": "code",
      "source": [
        "import pandas as pd\n",
        "import numpy as np\n",
        "import scipy \n",
        "from scipy import stats\n",
        "import matplotlib.pyplot as plt\n",
        "%matplotlib inline\n",
        "import seaborn as sns\n",
        "import statsmodels.formula.api as smf"
      ],
      "metadata": {
        "colab": {
          "base_uri": "https://localhost:8080/"
        },
        "id": "j-7iDjISmr-i",
        "outputId": "d4d62f48-9562-4606-a339-fee51dcd0a47"
      },
      "execution_count": 1,
      "outputs": [
        {
          "output_type": "stream",
          "name": "stderr",
          "text": [
            "/usr/local/lib/python3.7/dist-packages/statsmodels/tools/_testing.py:19: FutureWarning: pandas.util.testing is deprecated. Use the functions in the public API at pandas.testing instead.\n",
            "  import pandas.util.testing as tm\n"
          ]
        }
      ]
    },
    {
      "cell_type": "code",
      "source": [
        "Delivery_data = pd.read_csv(\"/content/delivery_time (1).csv\")\n",
        "print('Delivery_data' , Delivery_data)"
      ],
      "metadata": {
        "colab": {
          "base_uri": "https://localhost:8080/"
        },
        "id": "m9FB_nYSmyva",
        "outputId": "f31b1c4a-1053-4db2-cf05-21d01d6f75c6"
      },
      "execution_count": 2,
      "outputs": [
        {
          "output_type": "stream",
          "name": "stdout",
          "text": [
            "Delivery_data     Delivery Time  Sorting Time\n",
            "0           21.00            10\n",
            "1           13.50             4\n",
            "2           19.75             6\n",
            "3           24.00             9\n",
            "4           29.00            10\n",
            "5           15.35             6\n",
            "6           19.00             7\n",
            "7            9.50             3\n",
            "8           17.90            10\n",
            "9           18.75             9\n",
            "10          19.83             8\n",
            "11          10.75             4\n",
            "12          16.68             7\n",
            "13          11.50             3\n",
            "14          12.03             3\n",
            "15          14.88             4\n",
            "16          13.75             6\n",
            "17          18.11             7\n",
            "18           8.00             2\n",
            "19          17.83             7\n",
            "20          21.50             5\n"
          ]
        }
      ]
    },
    {
      "cell_type": "code",
      "source": [
        "Delivery_data.info()"
      ],
      "metadata": {
        "colab": {
          "base_uri": "https://localhost:8080/"
        },
        "id": "SCsYixi3m6IT",
        "outputId": "28bb1064-986a-4ed7-d584-df8c8a742815"
      },
      "execution_count": 3,
      "outputs": [
        {
          "output_type": "stream",
          "name": "stdout",
          "text": [
            "<class 'pandas.core.frame.DataFrame'>\n",
            "RangeIndex: 21 entries, 0 to 20\n",
            "Data columns (total 2 columns):\n",
            " #   Column         Non-Null Count  Dtype  \n",
            "---  ------         --------------  -----  \n",
            " 0   Delivery Time  21 non-null     float64\n",
            " 1   Sorting Time   21 non-null     int64  \n",
            "dtypes: float64(1), int64(1)\n",
            "memory usage: 464.0 bytes\n"
          ]
        }
      ]
    },
    {
      "cell_type": "code",
      "source": [
        "# Data Visualization plot for Sorting time\n",
        "\n",
        "\n",
        "Sorting_plot = sns.distplot(Delivery_data['Sorting Time'], kde = True, color ='Red', bins = 5)"
      ],
      "metadata": {
        "colab": {
          "base_uri": "https://localhost:8080/",
          "height": 334
        },
        "id": "o5DjQxumm81C",
        "outputId": "3fe33fea-d39f-487a-a074-86fd30236cab"
      },
      "execution_count": 4,
      "outputs": [
        {
          "output_type": "stream",
          "name": "stderr",
          "text": [
            "/usr/local/lib/python3.7/dist-packages/seaborn/distributions.py:2619: FutureWarning: `distplot` is a deprecated function and will be removed in a future version. Please adapt your code to use either `displot` (a figure-level function with similar flexibility) or `histplot` (an axes-level function for histograms).\n",
            "  warnings.warn(msg, FutureWarning)\n"
          ]
        },
        {
          "output_type": "display_data",
          "data": {
            "image/png": "[encoded data removed]",
            "text/plain": [
              "<Figure size 432x288 with 1 Axes>"
            ]
          },
          "metadata": {
            "needs_background": "light"
          }
        }
      ]
    },
    {
      "cell_type": "code",
      "source": [
        "# Data Visualization plot for Delivery time\n",
        "\n",
        "Sorting_plot = sns.distplot(Delivery_data['Delivery Time'], kde = True, color ='Red', bins = 5)"
      ],
      "metadata": {
        "colab": {
          "base_uri": "https://localhost:8080/",
          "height": 334
        },
        "id": "XS2a36twnBmL",
        "outputId": "b6d519ce-ffa4-4562-fde2-ba7bc3c6486c"
      },
      "execution_count": 5,
      "outputs": [
        {
          "output_type": "stream",
          "name": "stderr",
          "text": [
            "/usr/local/lib/python3.7/dist-packages/seaborn/distributions.py:2619: FutureWarning: `distplot` is a deprecated function and will be removed in a future version. Please adapt your code to use either `displot` (a figure-level function with similar flexibility) or `histplot` (an axes-level function for histograms).\n",
            "  warnings.warn(msg, FutureWarning)\n"
          ]
        },
        {
          "output_type": "display_data",
          "data": {
            "image/png": "[encoded data removed]",
            "text/plain": [
              "<Figure size 432x288 with 1 Axes>"
            ]
          },
          "metadata": {
            "needs_background": "light"
          }
        }
      ]
    },
    {
      "cell_type": "code",
      "source": [
        "#Correlation Analysis\n",
        "\n",
        "\n",
        "Delivery_data.corr()"
      ],
      "metadata": {
        "colab": {
          "base_uri": "https://localhost:8080/",
          "height": 112
        },
        "id": "mBFSwebunG-7",
        "outputId": "c4bfa533-abb5-430f-a691-3350d438200e"
      },
      "execution_count": 6,
      "outputs": [
        {
          "output_type": "execute_result",
          "data": {
            "text/html": [
              "\n",
              "  <div id=\"df-0727593c-a5e1-478f-bc8a-7eaad44433e5\">\n",
              "    <div class=\"colab-df-container\">\n",
              "      <div>\n",
              "<style scoped>\n",
              "    .dataframe tbody tr th:only-of-type {\n",
              "        vertical-align: middle;\n",
              "    }\n",
              "\n",
              "    .dataframe tbody tr th {\n",
              "        vertical-align: top;\n",
              "    }\n",
              "\n",
              "    .dataframe thead th {\n",
              "        text-align: right;\n",
              "    }\n",
              "</style>\n",
              "<table border=\"1\" class=\"dataframe\">\n",
              "  <thead>\n",
              "    <tr style=\"text-align: right;\">\n",
              "      <th></th>\n",
              "      <th>Delivery Time</th>\n",
              "      <th>Sorting Time</th>\n",
              "    </tr>\n",
              "  </thead>\n",
              "  <tbody>\n",
              "    <tr>\n",
              "      <th>Delivery Time</th>\n",
              "      <td>1.000000</td>\n",
              "      <td>0.825997</td>\n",
              "    </tr>\n",
              "    <tr>\n",
              "      <th>Sorting Time</th>\n",
              "      <td>0.825997</td>\n",
              "      <td>1.000000</td>\n",
              "    </tr>\n",
              "  </tbody>\n",
              "</table>\n",
              "</div>\n",
              "      <button class=\"colab-df-convert\" onclick=\"convertToInteractive('df-0727593c-a5e1-478f-bc8a-7eaad44433e5')\"\n",
              "              title=\"Convert this dataframe to an interactive table.\"\n",
              "              style=\"display:none;\">\n",
              "        \n",
              "  <svg xmlns=\"http://www.w3.org/2000/svg\" height=\"24px\"viewBox=\"0 0 24 24\"\n",
              "       width=\"24px\">\n",
              "    <path d=\"M0 0h24v24H0V0z\" fill=\"none\"/>\n",
              "    <path d=\"M18.56 5.44l.94 2.06.94-2.06 2.06-.94-2.06-.94-.94-2.06-.94 2.06-2.06.94zm-11 1L8.5 8.5l.94-2.06 2.06-.94-2.06-.94L8.5 2.5l-.94 2.06-2.06.94zm10 10l.94 2.06.94-2.06 2.06-.94-2.06-.94-.94-2.06-.94 2.06-2.06.94z\"/><path d=\"M17.41 7.96l-1.37-1.37c-.4-.4-.92-.59-1.43-.59-.52 0-1.04.2-1.43.59L10.3 9.45l-7.72 7.72c-.78.78-.78 2.05 0 2.83L4 21.41c.39.39.9.59 1.41.59.51 0 1.02-.2 1.41-.59l7.78-7.78 2.81-2.81c.8-.78.8-2.07 0-2.86zM5.41 20L4 18.59l7.72-7.72 1.47 1.35L5.41 20z\"/>\n",
              "  </svg>\n",
              "      </button>\n",
              "      \n",
              "  <style>\n",
              "    .colab-df-container {\n",
              "      display:flex;\n",
              "      flex-wrap:wrap;\n",
              "      gap: 12px;\n",
              "    }\n",
              "\n",
              "    .colab-df-convert {\n",
              "      background-color: #E8F0FE;\n",
              "      border: none;\n",
              "      border-radius: 50%;\n",
              "      cursor: pointer;\n",
              "      display: none;\n",
              "      fill: #1967D2;\n",
              "      height: 32px;\n",
              "      padding: 0 0 0 0;\n",
              "      width: 32px;\n",
              "    }\n",
              "\n",
              "    .colab-df-convert:hover {\n",
              "      background-color: #E2EBFA;\n",
              "      box-shadow: 0px 1px 2px rgba(60, 64, 67, 0.3), 0px 1px 3px 1px rgba(60, 64, 67, 0.15);\n",
              "      fill: #174EA6;\n",
              "    }\n",
              "\n",
              "    [theme=dark] .colab-df-convert {\n",
              "      background-color: #3B4455;\n",
              "      fill: #D2E3FC;\n",
              "    }\n",
              "\n",
              "    [theme=dark] .colab-df-convert:hover {\n",
              "      background-color: #434B5C;\n",
              "      box-shadow: 0px 1px 3px 1px rgba(0, 0, 0, 0.15);\n",
              "      filter: drop-shadow(0px 1px 2px rgba(0, 0, 0, 0.3));\n",
              "      fill: #FFFFFF;\n",
              "    }\n",
              "  </style>\n",
              "\n",
              "      <script>\n",
              "        const buttonEl =\n",
              "          document.querySelector('#df-0727593c-a5e1-478f-bc8a-7eaad44433e5 button.colab-df-convert');\n",
              "        buttonEl.style.display =\n",
              "          google.colab.kernel.accessAllowed ? 'block' : 'none';\n",
              "\n",
              "        async function convertToInteractive(key) {\n",
              "          const element = document.querySelector('#df-0727593c-a5e1-478f-bc8a-7eaad44433e5');\n",
              "          const dataTable =\n",
              "            await google.colab.kernel.invokeFunction('convertToInteractive',\n",
              "                                                     [key], {});\n",
              "          if (!dataTable) return;\n",
              "\n",
              "          const docLinkHtml = 'Like what you see? Visit the ' +\n",
              "            '<a target=\"_blank\" href=https://colab.research.google.com/notebooks/data_table.ipynb>data table notebook</a>'\n",
              "            + ' to learn more about interactive tables.';\n",
              "          element.innerHTML = '';\n",
              "          dataTable['output_type'] = 'display_data';\n",
              "          await google.colab.output.renderOutput(dataTable, element);\n",
              "          const docLink = document.createElement('div');\n",
              "          docLink.innerHTML = docLinkHtml;\n",
              "          element.appendChild(docLink);\n",
              "        }\n",
              "      </script>\n",
              "    </div>\n",
              "  </div>\n",
              "  "
            ],
            "text/plain": [
              "               Delivery Time  Sorting Time\n",
              "Delivery Time       1.000000      0.825997\n",
              "Sorting Time        0.825997      1.000000"
            ]
          },
          "metadata": {},
          "execution_count": 6
        }
      ]
    },
    {
      "cell_type": "markdown",
      "source": [
        "**The inputs (regressors, 𝑥) and output (predictor, 𝑦) should be arrays for \n",
        "Simple Linear Regression With scikit-learn** **bold text**"
      ],
      "metadata": {
        "id": "InzfNoIFnP46"
      }
    },
    {
      "cell_type": "code",
      "source": [
        "Sorting_time_X = np.array(Delivery_data.iloc[0:21,1]).reshape(-1,1)\n",
        "\n",
        "print(Sorting_time_X)\n",
        "\n",
        "#\n",
        "\n",
        "Delivery_time = np.array(Delivery_data.iloc[:,0])\n",
        "Delivery_time_Y = Delivery_time.reshape(-1,1)\n",
        "print(Delivery_time_Y)\n",
        "\n",
        "#\n",
        "\n",
        "sns.pairplot(Delivery_data, x_vars='Sorting Time' , y_vars = 'Delivery Time' , kind= 'scatter')\n"
      ],
      "metadata": {
        "colab": {
          "base_uri": "https://localhost:8080/",
          "height": 943
        },
        "id": "01PArLtnnSKj",
        "outputId": "be13a956-d4fa-4c99-ff6d-16e1df433fb5"
      },
      "execution_count": 10,
      "outputs": [
        {
          "output_type": "stream",
          "name": "stdout",
          "text": [
            "[[10]\n",
            " [ 4]\n",
            " [ 6]\n",
            " [ 9]\n",
            " [10]\n",
            " [ 6]\n",
            " [ 7]\n",
            " [ 3]\n",
            " [10]\n",
            " [ 9]\n",
            " [ 8]\n",
            " [ 4]\n",
            " [ 7]\n",
            " [ 3]\n",
            " [ 3]\n",
            " [ 4]\n",
            " [ 6]\n",
            " [ 7]\n",
            " [ 2]\n",
            " [ 7]\n",
            " [ 5]]\n",
            "[[21.  ]\n",
            " [13.5 ]\n",
            " [19.75]\n",
            " [24.  ]\n",
            " [29.  ]\n",
            " [15.35]\n",
            " [19.  ]\n",
            " [ 9.5 ]\n",
            " [17.9 ]\n",
            " [18.75]\n",
            " [19.83]\n",
            " [10.75]\n",
            " [16.68]\n",
            " [11.5 ]\n",
            " [12.03]\n",
            " [14.88]\n",
            " [13.75]\n",
            " [18.11]\n",
            " [ 8.  ]\n",
            " [17.83]\n",
            " [21.5 ]]\n"
          ]
        },
        {
          "output_type": "execute_result",
          "data": {
            "text/plain": [
              "<seaborn.axisgrid.PairGrid at 0x7f99f39a9450>"
            ]
          },
          "metadata": {},
          "execution_count": 10
        },
        {
          "output_type": "display_data",
          "data": {
            "image/png": "[encoded data removed]",
            "text/plain": [
              "<Figure size 180x180 with 1 Axes>"
            ]
          },
          "metadata": {
            "needs_background": "light"
          }
        }
      ]
    },
    {
      "cell_type": "code",
      "source": [
        "## Splitting the dataset into training and test set. \n",
        "\n",
        "from sklearn.model_selection import train_test_split\n",
        "from sklearn.linear_model import LinearRegression\n",
        "\n",
        "\n",
        "X_train, X_test, Y_train, Y_test = train_test_split(Sorting_time_X, Delivery_time_Y, test_size = 0.2, random_state = 0)\n",
        "\n",
        "# fit a model\n",
        "\n",
        "lm = LinearRegression()\n",
        "Fitting_data = lm.fit(X_train, Y_train)\n",
        "print('Fitting_data : ', Fitting_data)"
      ],
      "metadata": {
        "colab": {
          "base_uri": "https://localhost:8080/"
        },
        "id": "GAlIIsrpoczj",
        "outputId": "3c4522f7-1e19-4d6c-9d9e-54538f66a743"
      },
      "execution_count": 11,
      "outputs": [
        {
          "output_type": "stream",
          "name": "stdout",
          "text": [
            "Fitting_data :  LinearRegression()\n"
          ]
        }
      ]
    },
    {
      "cell_type": "markdown",
      "source": [
        "#  Obtain the coefficient of determination (𝑅²) with .score() called on model"
      ],
      "metadata": {
        "id": "_wq8Q_Pzootz"
      }
    },
    {
      "cell_type": "code",
      "source": [
        "lm.score(X_train, Y_train)"
      ],
      "metadata": {
        "colab": {
          "base_uri": "https://localhost:8080/"
        },
        "id": "58VS4V6xoi3D",
        "outputId": "39c20eab-0ca1-4f58-8a11-ff3871a3be8b"
      },
      "execution_count": 12,
      "outputs": [
        {
          "output_type": "execute_result",
          "data": {
            "text/plain": [
              "0.803819534436421"
            ]
          },
          "metadata": {},
          "execution_count": 12
        }
      ]
    },
    {
      "cell_type": "markdown",
      "source": [
        "# **The attributes of mode/lm are .intercept_, which represents the coefficient, 𝑏₀ and .coef_, which represents 𝑏₁:**"
      ],
      "metadata": {
        "id": "uUoIuz_OotSz"
      }
    },
    {
      "cell_type": "code",
      "source": [
        "print('intercept:', lm.intercept_)\n",
        "print('slope:', lm.coef_)"
      ],
      "metadata": {
        "colab": {
          "base_uri": "https://localhost:8080/"
        },
        "id": "x5xG71y0oydS",
        "outputId": "e01eb5b8-1b9c-4c85-85c0-58d661e17de1"
      },
      "execution_count": 13,
      "outputs": [
        {
          "output_type": "stream",
          "name": "stdout",
          "text": [
            "intercept: [5.01597826]\n",
            "slope: [[1.89619565]]\n"
          ]
        }
      ]
    },
    {
      "cell_type": "markdown",
      "source": [
        "# **.predict(), you pass the regressor as the argument and get the corresponding predicted response.**"
      ],
      "metadata": {
        "id": "o-YbwetIo27s"
      }
    },
    {
      "cell_type": "code",
      "source": [
        "y_pred = lm.predict(X_test)\n",
        "print('Predicted response:', y_pred, sep='\\n')\n",
        "\n",
        "# Plot a model for True Values & predicted Values, to check how much accurate our model is\n",
        "\n",
        "sns.distplot(y_pred, kde=True)"
      ],
      "metadata": {
        "colab": {
          "base_uri": "https://localhost:8080/",
          "height": 441
        },
        "id": "9FdAiOgio6ca",
        "outputId": "e2889dd1-59d4-420f-ea2b-22ae721356fa"
      },
      "execution_count": 14,
      "outputs": [
        {
          "output_type": "stream",
          "name": "stdout",
          "text": [
            "Predicted response:\n",
            "[[23.97793478]\n",
            " [10.70456522]\n",
            " [14.49695652]\n",
            " [12.60076087]\n",
            " [12.60076087]]\n"
          ]
        },
        {
          "output_type": "stream",
          "name": "stderr",
          "text": [
            "/usr/local/lib/python3.7/dist-packages/seaborn/distributions.py:2619: FutureWarning: `distplot` is a deprecated function and will be removed in a future version. Please adapt your code to use either `displot` (a figure-level function with similar flexibility) or `histplot` (an axes-level function for histograms).\n",
            "  warnings.warn(msg, FutureWarning)\n"
          ]
        },
        {
          "output_type": "execute_result",
          "data": {
            "text/plain": [
              "<matplotlib.axes._subplots.AxesSubplot at 0x7f99f076bfd0>"
            ]
          },
          "metadata": {},
          "execution_count": 14
        },
        {
          "output_type": "display_data",
          "data": {
            "image/png": "[encoded data removed]",
            "text/plain": [
              "<Figure size 432x288 with 1 Axes>"
            ]
          },
          "metadata": {
            "needs_background": "light"
          }
        }
      ]
    },
    {
      "cell_type": "code",
      "source": [
        "#Visualizing the Test set results  \n",
        "plt.scatter(X_train, Y_train, color=\"blue\")   \n",
        "plt.plot(X_test, y_pred, color=\"red\")    "
      ],
      "metadata": {
        "colab": {
          "base_uri": "https://localhost:8080/",
          "height": 286
        },
        "id": "TLhTAhXNpWS7",
        "outputId": "d1658765-3f2c-4346-d1e3-d5134913dd2d"
      },
      "execution_count": 15,
      "outputs": [
        {
          "output_type": "execute_result",
          "data": {
            "text/plain": [
              "[<matplotlib.lines.Line2D at 0x7f99f071f450>]"
            ]
          },
          "metadata": {},
          "execution_count": 15
        },
        {
          "output_type": "display_data",
          "data": {
            "image/png": "[encoded data removed]",
            "text/plain": [
              "<Figure size 432x288 with 1 Axes>"
            ]
          },
          "metadata": {
            "needs_background": "light"
          }
        }
      ]
    }
  ]
}